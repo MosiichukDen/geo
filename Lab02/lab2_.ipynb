{
 "cells": [
  {
   "cell_type": "code",
   "execution_count": 34,
   "metadata": {},
   "outputs": [],
   "source": [
    "import rasterio\n",
    "import matplotlib\n",
    "import numpy as np\n",
    "from rasterio.plot import show\n",
    "from matplotlib import pyplot\n",
    "\n"
   ]
  },
  {
   "cell_type": "code",
   "execution_count": 3,
   "metadata": {},
   "outputs": [],
   "source": [
    "dataset = rasterio.open('soil_moisture.tif')"
   ]
  },
  {
   "cell_type": "code",
   "execution_count": 4,
   "metadata": {},
   "outputs": [
    {
     "name": "stdout",
     "output_type": "stream",
     "text": [
      "Середнє значення вологості на знімку: 3061.4033573708475\n"
     ]
    }
   ],
   "source": [
    "array = dataset.read(1)\n",
    "avg = array[array != 65535].mean()\n",
    "print(f'Середнє значення вологості на знімку: {avg}')"
   ]
  },
  {
   "cell_type": "code",
   "execution_count": 5,
   "metadata": {},
   "outputs": [
    {
     "name": "stdout",
     "output_type": "stream",
     "text": [
      "Мінімальне значення вологості на знімку: 2139, їх кількість: 1, координати: (29.997883067000007, 50.159589287)\n",
      "Максимальне значення вологості на знімку: 3824, їх кількість: 1, координати: (29.724966444000007, 49.999172646000005)\n"
     ]
    }
   ],
   "source": [
    "max = array[array != 65535].max()\n",
    "max_count = array[array == max].size\n",
    "max_row_col_index = np.where(array == max)\n",
    "max_lot_lat = dataset.transform * (max_row_col_index[0][0], max_row_col_index[1][0])\n",
    "min = array[array != 65535].min()\n",
    "min_count = array[array == min].size\n",
    "min_row_col_index = np.where(array == min)\n",
    "min_lot_lat = dataset.transform * (min_row_col_index[0][0], min_row_col_index[1][0])\n",
    "print(f'Мінімальне значення вологості на знімку: {min}, їх кількість: {min_count}, координати: {min_lot_lat}')\n",
    "print(f'Максимальне значення вологості на знімку: {max}, їх кількість: {max_count}, координати: {max_lot_lat}')"
   ]
  },
  {
   "cell_type": "code",
   "execution_count": 37,
   "metadata": {},
   "outputs": [],
   "source": [
    "#new_array = array.copy()\n",
    "###new_array[new_array == 65535] = 0\n",
    "#matplotlib.pyplot.plot(new_array)\n",
    "#matplotlib.pyplot.plot(array)\n",
    "\n"
   ]
  }
 ],
 "metadata": {
  "kernelspec": {
   "display_name": "venv",
   "language": "python",
   "name": "python3"
  },
  "language_info": {
   "codemirror_mode": {
    "name": "ipython",
    "version": 3
   },
   "file_extension": ".py",
   "mimetype": "text/x-python",
   "name": "python",
   "nbconvert_exporter": "python",
   "pygments_lexer": "ipython3",
   "version": "3.11.2"
  },
  "orig_nbformat": 4
 },
 "nbformat": 4,
 "nbformat_minor": 2
}
