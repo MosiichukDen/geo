{
 "cells": [
  {
   "cell_type": "code",
   "execution_count": 1,
   "metadata": {},
   "outputs": [],
   "source": [
    "import numpy as np\n",
    "import rasterio"
   ]
  },
  {
   "cell_type": "code",
   "execution_count": 2,
   "metadata": {},
   "outputs": [
    {
     "name": "stdout",
     "output_type": "stream",
     "text": [
      "bounds count= 1\n",
      "CRS = EPSG:4326\n",
      "BoundingBox(left=29.566633136000007, bottom=49.434589403000004, right=31.185382877000006, top=50.486672568)\n",
      "777\n",
      "505\n",
      "| 0.00, 0.00, 29.57|\n",
      "| 0.00,-0.00, 50.49|\n",
      "| 0.00, 0.00, 1.00|\n"
     ]
    }
   ],
   "source": [
    "dataset = rasterio.open('soil_moisture.tif')\n",
    "print('bounds count=', dataset.count)\n",
    "print('CRS =', dataset.crs)\n",
    "print(dataset.bounds)\n",
    "print(dataset.width)\n",
    "print(dataset.height)\n",
    "print(dataset.transform)\n"
   ]
  },
  {
   "cell_type": "code",
   "execution_count": 3,
   "metadata": {},
   "outputs": [
    {
     "name": "stdout",
     "output_type": "stream",
     "text": [
      "к-ть коректне значеня вологості: 169180\n",
      "к-ть точок з помилковими розрахунками: 223205\n"
     ]
    }
   ],
   "source": [
    "array = dataset.read(1)\n",
    "count_correct_points = 0\n",
    "count_wrong_points = 0\n",
    "for element in array.flat:\n",
    "    if element == 65535:\n",
    "        count_wrong_points+=1\n",
    "    else:\n",
    "        count_correct_points+=1\n",
    "print(f'к-ть коректне значеня вологості: {count_correct_points}')\n",
    "print(f'к-ть точок з помилковими розрахунками: {count_wrong_points}')"
   ]
  }
 ],
 "metadata": {
  "kernelspec": {
   "display_name": "venv",
   "language": "python",
   "name": "python3"
  },
  "language_info": {
   "codemirror_mode": {
    "name": "ipython",
    "version": 3
   },
   "file_extension": ".py",
   "mimetype": "text/x-python",
   "name": "python",
   "nbconvert_exporter": "python",
   "pygments_lexer": "ipython3",
   "version": "3.11.2"
  },
  "orig_nbformat": 4
 },
 "nbformat": 4,
 "nbformat_minor": 2
}
